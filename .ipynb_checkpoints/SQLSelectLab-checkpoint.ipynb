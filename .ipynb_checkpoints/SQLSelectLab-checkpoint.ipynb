{
  "cells": [
    {
      "cell_type": "markdown",
      "metadata": {
        "id": "kDTjWiMh1j1_"
      },
      "source": [
        "## Introduction\n",
        "\n",
        "In this assessment lab, you will explore basic techniques for retrieving and transforming data using SQL (Structured Query Language) in Python. You will be working with the employees table stored in the data.sqlite file. Imagine that you are working within the HR department of the fictional Northwinds Company as a data specialist/analyst and need to be able to easily access select employee records. SQL is just the tool you need!\n",
        "\n",
        "SQL is a powerful language that allows us to interact with relational databases and perform various operations on the data. By leveraging SQL queries, we can efficiently retrieve specific subsets of data, create meaningful aliases for improved readability, transform selected columns using CASE statements, and utilize built-in SQL functions to perform advanced transformations."
      ]
    },
    {
      "cell_type": "markdown",
      "metadata": {
        "id": "PUzgkX521pN8"
      },
      "source": [
        "## Learning Objectives\n",
        "\n",
        "* Connect to a SQL Database file \n",
        "* Use SELECT in SQL to select columns from a database\n",
        "* Use SQL built-in functions to manipulate the values of the given database"
      ]
    },
    {
      "cell_type": "markdown",
      "metadata": {
        "id": "9vNOKPXbp3LO"
      },
      "source": [
        "## Part 1: Connecting to Data\n",
        "\n",
        "A SQL database file has been provided that contains the Northwind company's product, customer and employee data (fictional). For the scope of this assessment you will focus mostly on the employees tables. You will be asked to retrieve specific information/data using SQL queries in tandem with Pandas to load the results into a DataFrame.\n",
        "\n",
        "Example:\n",
        "\n",
        "`df_answer = pd.read_sql(\"\"\"SELECT * FROM some_table\"\"\", connection)`\n",
        "\n",
        "### Step 1\n",
        "\n",
        "In the cell below import the necessary libraries, sqlite3 and pandas. Use the standard alias for the pandas library. Create a connection to the **data.sqlite** database file and store it as the variable conn."
      ]
    },
    {
      "cell_type": "code",
      "execution_count": null,
      "metadata": {
        "colab": {
          "base_uri": "https://localhost:8080/",
          "height": 634
        },
        "id": "AXnhNYR0n_mD",
        "outputId": "7f866600-53b5-4d32-f5de-d1958817f828"
      },
      "outputs": [],
      "source": [
        "# CodeGrade step1\n",
        "# Replace None with your code\n",
        "\n",
        "# SQL Library and Pandas\n",
        "import sqlite3\n",
        "import pandas as pd\n",
        "\n",
        "# Connect to the database\n",
        "conn = None"
      ]
    },
    {
      "cell_type": "markdown",
      "metadata": {},
      "source": [
        "As previously stated, this database contains multiple tables but for this assessment you will focus on querying data from the **employees** table and later from the **orderDetails** table. In the cell below we have provided code that selects all columns and rows from the **employees** table for you to use as reference."
      ]
    },
    {
      "cell_type": "code",
      "execution_count": null,
      "metadata": {},
      "outputs": [],
      "source": [
        "# Run this cell without changes\n",
        "# First look at full table\n",
        "pd.read_sql(\"\"\"SELECT * FROM employees\"\"\", conn)"
      ]
    },
    {
      "cell_type": "markdown",
      "metadata": {},
      "source": [
        "## Part 2: Basic Select Filtering"
      ]
    },
    {
      "cell_type": "markdown",
      "metadata": {
        "id": "btPfBwiXp8nl"
      },
      "source": [
        "### Step 2\n",
        "Return the employee number and last name from all employees in the employees table in the database. Your result should only contain those two columns."
      ]
    },
    {
      "cell_type": "code",
      "execution_count": null,
      "metadata": {},
      "outputs": [],
      "source": [
        "# CodeGrade step2\n",
        "# Replace None with your code\n",
        "df_first_five = None"
      ]
    },
    {
      "cell_type": "markdown",
      "metadata": {
        "id": "1ipdJyx3qotT"
      },
      "source": [
        "### Step 3\n",
        "Repeat Step 2, but have the last name come before the employee number.\n"
      ]
    },
    {
      "cell_type": "code",
      "execution_count": null,
      "metadata": {},
      "outputs": [],
      "source": [
        "# CodeGrade step3\n",
        "# Replace None with your code\n",
        "df_five_reverse = None"
      ]
    },
    {
      "cell_type": "markdown",
      "metadata": {},
      "source": [
        "## Part 3: Aliasing in Select"
      ]
    },
    {
      "cell_type": "markdown",
      "metadata": {
        "id": "y6llkU_wq7qM"
      },
      "source": [
        "### Step 4\n",
        "Repeat step 3, but this time use an alias to rename the employee number column as 'ID'."
      ]
    },
    {
      "cell_type": "code",
      "execution_count": null,
      "metadata": {},
      "outputs": [],
      "source": [
        "# CodeGrade step4\n",
        "# Replace None with your code\n",
        "df_alias = None"
      ]
    },
    {
      "cell_type": "markdown",
      "metadata": {},
      "source": [
        "## Part 4: CASE Function"
      ]
    },
    {
      "cell_type": "markdown",
      "metadata": {
        "id": "VONyCutLrd-5"
      },
      "source": [
        "### Step 5\n",
        "Use 'CASE' to bin where the jobTitles of President, VP Sales, or VP Marketing have the 'role' of \"Executive\", and the rest of the employes are \"Not Executive\".\n",
        "\n",
        "Define the result of the 'CASE' as a new column called 'role'\n",
        "\n",
        "Hint: For the WHEN clause if we were looking at Managers, we'd have\n",
        "\n",
        "\n",
        "```\n",
        "WHEN jobTitle = \"Sales Manager (APAC)\" OR jobTitle = \"Sale Manager (EMEA)\" OR jobTitle = \"Sales Manager (NA)\" THEN \"Manager\"\n",
        "```\n",
        "\n"
      ]
    },
    {
      "cell_type": "code",
      "execution_count": null,
      "metadata": {},
      "outputs": [],
      "source": [
        "# CodeGrade step5\n",
        "# Replace None with your code\n",
        "df_executive = None"
      ]
    },
    {
      "cell_type": "markdown",
      "metadata": {},
      "source": [
        "## Part 5: Built-in Functions - Strings"
      ]
    },
    {
      "cell_type": "markdown",
      "metadata": {
        "id": "gO8MA01-tTfU"
      },
      "source": [
        "### Step 6\n",
        "\n",
        "Find the length of the last name for all employees, return only this data as a new column called 'name_length'."
      ]
    },
    {
      "cell_type": "code",
      "execution_count": null,
      "metadata": {},
      "outputs": [],
      "source": [
        "# CodeGrade step6\n",
        "# Replace None with your code\n",
        "df_name_length = None"
      ]
    },
    {
      "cell_type": "markdown",
      "metadata": {
        "id": "1XXDeXwutu3-"
      },
      "source": [
        "### Step 7\n",
        "Return only one new column called 'short_title', that contains the first two letters of each persons job title."
      ]
    },
    {
      "cell_type": "code",
      "execution_count": null,
      "metadata": {},
      "outputs": [],
      "source": [
        "# CodeGrade step7\n",
        "# Replace None with your code\n",
        "df_short_title = None"
      ]
    },
    {
      "cell_type": "markdown",
      "metadata": {},
      "source": [
        "## Part 6: Built-in Functions - Numerics"
      ]
    },
    {
      "cell_type": "markdown",
      "metadata": {
        "id": "YtSqQROjytX6"
      },
      "source": [
        "### Bring in another table from the database\n",
        "\n",
        "In the cell below we have provided a look at a new table within the database provided. This table contains data pertaining to orders placed with the company and has some good numerical and date columns to explore."
      ]
    },
    {
      "cell_type": "code",
      "execution_count": null,
      "metadata": {},
      "outputs": [],
      "source": [
        "# Run this cell without changes\n",
        "\n",
        "pd.read_sql(\"\"\"SELECT * FROM orderDetails;\"\"\", conn)"
      ]
    },
    {
      "cell_type": "markdown",
      "metadata": {
        "id": "RCbtpGzwyRqJ"
      },
      "source": [
        "### Step 8\n",
        "\n",
        "Find the total amount for all orders, calculated as the sum of rounded total prices, where the total price for each order is the 'priceEach' multiplied by the 'quantityOrdered'. Make sure you are rounding this internal product result.\n",
        "\n",
        "Hint: Append .sum() to the end of your returned query that contains total price for each order, in order to create the total amount. You could also use the SUM() built-in SQL function as well.\n",
        "\n",
        "For example:\n",
        "\n",
        "```\n",
        "sum_total = pd.read_sql(\"\"\"\n",
        "SELECT total_price\n",
        "FROM some_table\n",
        "\"\"\", conn).sum()\n",
        "```\n",
        "\n"
      ]
    },
    {
      "cell_type": "code",
      "execution_count": null,
      "metadata": {},
      "outputs": [],
      "source": [
        "# CodeGrade step8\n",
        "# Replace None with your code\n",
        "sum_total_price = None"
      ]
    },
    {
      "cell_type": "markdown",
      "metadata": {
        "id": "18TYfzBk0Wo_"
      },
      "source": [
        "### Step 9\n",
        "\n",
        "It is common in other parts of the world as well as the US Military to have dates as Day/Month/Year. Return the original order date column followed by three new columns that display the order date in this format with column names 'day', 'month', and 'year' respectively."
      ]
    },
    {
      "cell_type": "code",
      "execution_count": null,
      "metadata": {},
      "outputs": [],
      "source": [
        "# CodeGrade step9\n",
        "# Replace None with your code\n",
        "df_day_month_year = None"
      ]
    },
    {
      "cell_type": "markdown",
      "metadata": {},
      "source": [
        "### Close the connection"
      ]
    },
    {
      "cell_type": "code",
      "execution_count": null,
      "metadata": {},
      "outputs": [],
      "source": [
        "# Run this cell without changes\n",
        "\n",
        "conn.close()"
      ]
    }
  ],
  "metadata": {
    "colab": {
      "provenance": []
    },
    "kernelspec": {
      "display_name": "Python 3",
      "name": "python3"
    },
    "language_info": {
      "name": "python"
    }
  },
  "nbformat": 4,
  "nbformat_minor": 0
}
